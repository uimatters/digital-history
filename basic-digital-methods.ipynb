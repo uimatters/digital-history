{
 "cells": [
  {
   "cell_type": "markdown",
   "id": "6d43b959-eee8-4b0e-bb16-fcb635644cda",
   "metadata": {},
   "source": [
    "# How New Was Post-Reconstruction Whitesboro, Texas? \n",
    "<!-- #region tags=[\"contributor\"] -->\n",
    "### Corey Reed\n",
    "Texas Christian University\n",
    "<!-- #endregion -->\n",
    "\n",
    "Whitesboro, Texas is a small community near Lake Texoma, part of the Red River that divides Texas and Oklahoma. When I left my hometown for college, Whitesboro had a population around 4,500. Of those, non-white residents comprised less than 5%. In 1900, the town was around 1,200 people. Of those, 10-15% were non-white."
   ]
  },
  {
   "cell_type": "code",
   "execution_count": 3,
   "id": "d403f84f-8641-4d9d-b08e-53fceb2e895f",
   "metadata": {},
   "outputs": [
    {
     "data": {
      "application/vnd.jupyter.widget-view+json": {
       "model_id": "b68afbd20ea9410281728c4c77f51f4f",
       "version_major": 2,
       "version_minor": 0
      },
      "text/plain": [
       "Map(center=[33.65607, -96.90688], controls=(ZoomControl(options=['position', 'zoom_in_text', 'zoom_in_title', …"
      ]
     },
     "metadata": {},
     "output_type": "display_data"
    }
   ],
   "source": [
    "from ipyleaflet import Map, Marker\n",
    "\n",
    "center = (33.65607,-96.90688)\n",
    "map = Map(center=center, zoom=8)\n",
    "\n",
    "# Add a draggable marker to the map\n",
    "# Dragging the marker updates the marker.location value in Python\n",
    "marker = Marker(location=center, draggable=True)\n",
    "map.add_control(marker)\n",
    "\n",
    "display(map)"
   ]
  }
 ],
 "metadata": {
  "kernelspec": {
   "display_name": "Python 3 (ipykernel)",
   "language": "python",
   "name": "python3"
  },
  "language_info": {
   "codemirror_mode": {
    "name": "ipython",
    "version": 3
   },
   "file_extension": ".py",
   "mimetype": "text/x-python",
   "name": "python",
   "nbconvert_exporter": "python",
   "pygments_lexer": "ipython3",
   "version": "3.12.6"
  }
 },
 "nbformat": 4,
 "nbformat_minor": 5
}
