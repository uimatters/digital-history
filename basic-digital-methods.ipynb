{
 "cells": [
  {
   "cell_type": "markdown",
   "id": "6d43b959-eee8-4b0e-bb16-fcb635644cda",
   "metadata": {},
   "source": [
    "# \"Same Song, Second Verse?\": Thoughts on *The Promise of the New South* by Edward L. Ayers "
   ]
  },
  {
   "cell_type": "markdown",
   "id": "9c7690f6-6f11-40dd-ae27-69d5823048cf",
   "metadata": {},
   "source": [
    "In his 1992 work, Ayers examines a wide-angle view of the United States in the years following Reconstruction to understand how this period compared to the antebellum years. What was life truly like? How do you establish typicality in such a geographically and economically diversified region as the American South? We will embark on this journey together."
   ]
  },
  {
   "cell_type": "markdown",
   "id": "13464e25-0eb6-4800-a849-05f29e3a1bc9",
   "metadata": {},
   "source": [
    "![Cover of The Promise of the New South by Edward L. Ayers (New York: Oxford University Press), 1992.](media/ayers-promise-new-south.jpg)"
   ]
  },
  {
   "cell_type": "markdown",
   "id": "6363151a-34f1-4ef7-bca3-274045e2e35c",
   "metadata": {},
   "source": [
    "## **Figure 1:** Number of Black Southerners Lynched between 1889 and 1909 (number of incidents)\n",
    "\n",
    "This table is from p. 495 of Ayers, Edward L., *The Promise of the New South* (New York: Oxford University Press), 1992.\n",
    "\n",
    "|                  | 1889-94       | 1895-99       | 1900-1904     | 1905-9        | Total             |\n",
    "|------------------|--------------:|--------------:|--------------:|--------------:|------------------:|\n",
    "| Atlantic Plain   | 48 (43)       | 36 (25)       | 34 (31)       | 28 (22)       | 146 (121)         |\n",
    "| Piedmont         | 58 (51)       | 44 (35)       | 38 (36)       | 26 (17)       | 166 (139)         |\n",
    "| Mountains        | 81 (71)       | 28 (27)       | 29 (29)       | 13 (11)       | 151 (138)         |\n",
    "| Black Belt       | 48 (31)       | 47 (36)       | 24 (17)       | 22 (18)       | 141 (102)         |\n",
    "| Central Plateau  | 83 (74)       | 52 (41)       | 30 (24)       | 25 (19)       | 190 (158)         |\n",
    "| Gulf Plain       | 95 (60)       | 70 (49)       | 59 (44)       | 46 (38)       | 270 (191)         |\n",
    "| River Counties   | 85 (63)       | 61 (50)       | 65 (50)       | 48 (41)       | 259 (204)         |\n",
    "| Cotton Uplands   | 129 (103)     | 87 (63)       | 64 (49)       | 70 (55)       | 350 (270)         |\n",
    "| Western Prairies | 11 (9)        | 7 (5)         | 3 (0)         | 9 (0)         | 30 (14)           |\n",
    "| **Total**        | **638** (505) | **432** (331) | **346** (280) | **287** (221) | **1,703** (1,337) |"
   ]
  },
  {
   "cell_type": "code",
   "execution_count": null,
   "id": "d403f84f-8641-4d9d-b08e-53fceb2e895f",
   "metadata": {},
   "outputs": [],
   "source": []
  }
 ],
 "metadata": {
  "kernelspec": {
   "display_name": "Python 3 (ipykernel)",
   "language": "python",
   "name": "python3"
  },
  "language_info": {
   "codemirror_mode": {
    "name": "ipython",
    "version": 3
   },
   "file_extension": ".py",
   "mimetype": "text/x-python",
   "name": "python",
   "nbconvert_exporter": "python",
   "pygments_lexer": "ipython3",
   "version": "3.12.4"
  }
 },
 "nbformat": 4,
 "nbformat_minor": 5
}
